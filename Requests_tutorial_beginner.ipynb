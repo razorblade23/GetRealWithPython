{
  "nbformat": 4,
  "nbformat_minor": 0,
  "metadata": {
    "colab": {
      "name": "Requests_tutorial_beginner.ipynb",
      "provenance": [],
      "collapsed_sections": [],
      "authorship_tag": "ABX9TyMPAe289n436iNMqk8VeKtv",
      "include_colab_link": true
    },
    "kernelspec": {
      "name": "python3",
      "display_name": "Python 3"
    },
    "language_info": {
      "name": "python"
    }
  },
  "cells": [
    {
      "cell_type": "markdown",
      "metadata": {
        "id": "view-in-github",
        "colab_type": "text"
      },
      "source": [
        "<a href=\"https://colab.research.google.com/github/razorblade23/GetRealWithPython/blob/main/Requests_tutorial_beginner.ipynb\" target=\"_parent\"><img src=\"https://colab.research.google.com/assets/colab-badge.svg\" alt=\"Open In Colab\"/></a>"
      ]
    },
    {
      "cell_type": "markdown",
      "source": [
        "# REQUESTS\n",
        "*HTTP for humans*\n",
        "\n",
        "Requests is an elegant and simple HTTP library for Python, built for human beings.\n",
        "\n",
        "Official documentation can be fount at: \n",
        "\n",
        "https://docs.python-requests.org/en/latest/\n",
        "\n",
        "\n",
        "To understand Requests, we must first learn how HTTP (HyperText Transfer Protocol) work and what does this protocol enable us to do.\n",
        "\n",
        "In simple terms:\n",
        "HTTP is a protocol for fetching resources such as HTML documents. It is the foundation of any data exchange on the Web and it is a client-server protocol, which means requests are initiated by the recipient, usually the Web browser. A complete document is reconstructed from the different sub-documents fetched, for instance, text, layout description, images, videos, scripts, and more.\n",
        "\n",
        "Clients and servers communicate by exchanging individual messages (as opposed to a stream of data). \n",
        "The messages sent by the client, usually a Web browser, are called requests and the messages sent by the server as an answer are called responses.\n",
        "You can find more about HTTP and how it works here: \n",
        "\n",
        "https://developer.mozilla.org/en-US/docs/Web/HTTP/Overview\n",
        "\n",
        "This is exactly what Requests library enables you to do. You ask server a question (in various forms as you will see soon) and server returns you answer.\n",
        "\n",
        "\n",
        "HTTP requests have a few methods for delivering data, depending on your need:\n",
        "GET \n",
        "The GET method requests a representation of the specified resource. Requests using GET should only retrieve data.\n",
        "HEAD \n",
        "The HEAD method asks for a response identical to a GET request, but without the response body.\n",
        "POST \n",
        "The POST method submits an entity to the specified resource, often causing a change in state or side effects on the server.\n",
        "PUT \n",
        "The PUT method replaces all current representations of the target resource with the request payload.\n",
        "DELETE \n",
        "The DELETE method deletes the specified resource.\n",
        "CONNECT \n",
        "The CONNECT method establishes a tunnel to the server identified by the target resource.\n",
        "OPTIONS \n",
        "The OPTIONS method describes the communication options for the target resource.\n",
        "TRACE \n",
        "The TRACE method performs a message loop-back test along the path to the target resource.\n",
        "PATCH \n",
        "The PATCH method applies partial modifications to a resource.\n",
        "In this tutorial we will discuss only GET and POST as these are most common ones."
      ],
      "metadata": {
        "id": "5OHtfSn10K_q"
      }
    },
    {
      "cell_type": "markdown",
      "source": [
        "Requests is ready for today’s web.\n",
        "\n",
        "* Keep-Alive & Connection Pooling\n",
        "* International Domains and URLs\n",
        "* Sessions with Cookie Persistence\n",
        "* Browser-style SSL Verification\n",
        "* Automatic Content Decoding\n",
        "* Basic/Digest Authentication\n",
        "* Elegant Key/Value Cookies\n",
        "* Automatic Decompression\n",
        "* Unicode Response Bodies\n",
        "* HTTP(S) Proxy Support\n",
        "* Multipart File Uploads\n",
        "* Streaming Downloads\n",
        "* Connection Timeouts\n",
        "* Chunked Requests\n",
        "* .netrc Support\n",
        "\n",
        "Requests officially supports Python 2.7 & 3.6+, and runs great on PyPy.\n",
        "\n",
        "Installation is pretty simple as with any other library at PyPy\n",
        "\n",
        "`python -m pip install requests`\n",
        "\n",
        "Or if you have your venv activated you can simply do:\n",
        "\n",
        "`pip install requests`\n",
        "\n",
        "Author of library has also made a website where you can learn all about HTTP requests and how they work, you can find it here: https://httpbin.org/ \n",
        "\n",
        "You can use this website to simulate a real API and learn how things work."
      ],
      "metadata": {
        "id": "4EKZv5aH10he"
      }
    },
    {
      "cell_type": "markdown",
      "source": [
        "# HTTP Methods\n",
        "\n",
        "HTTP requests have a few methods for delivering data, depending on your need:\n",
        "\n",
        "* GET - The GET method requests a representation of the specified resource. Requests using GET should only retrieve data. \n",
        "* HEAD - The HEAD method asks for a response identical to a GET request, but without the response body. \n",
        "* POST - The POST method submits an entity to the specified resource, often causing a change in state or side effects on the server. \n",
        "* PUT - The PUT method replaces all current representations of the target resource with the request payload. \n",
        "* DELETE - The DELETE method deletes the specified resource. \n",
        "* CONNECT - The CONNECT method establishes a tunnel to the server identified by the target resource. \n",
        "* OPTIONS - The OPTIONS method describes the communication options for the target resource. \n",
        "* TRACE - The TRACE method performs a message loop-back test along the path to the target resource. \n",
        "* PATCH - The PATCH method applies partial modifications to a resource. In this tutorial we will discuss only GET and POST as these are most common ones."
      ],
      "metadata": {
        "id": "cKG6wVYU1CyP"
      }
    },
    {
      "cell_type": "markdown",
      "source": [
        "# HTTP Response codes\n",
        "When sending requests to servers, first thing to check out is response code.\n",
        "\n",
        "Response code helps you determine if everything is as it should be or is there some error to be aware of.\n",
        "\n",
        "Response codes can be separated in 5 categories\n",
        "* 1xx - Information responses\n",
        "* 2xx - Successful responses\n",
        "* 3xx - Redirection messages\n",
        "* 4xx - Client error responses\n",
        "* 5xx - Server error responses\n",
        "\n",
        "You can find out more about these codes here:\n",
        "https://developer.mozilla.org/en-US/docs/Web/HTTP/Status\n",
        "\n"
      ],
      "metadata": {
        "id": "3m47xnWRaq18"
      }
    },
    {
      "cell_type": "markdown",
      "source": [
        "# GET method\n",
        "\n",
        "GET method is used for getting data from server"
      ],
      "metadata": {
        "id": "5FgxnXcJ4QXz"
      }
    },
    {
      "cell_type": "code",
      "source": [
        "import requests\n",
        "\n",
        "# Get events from GitHub page\n",
        "response = requests.get('https://httpbin.org/get')\n",
        "\n",
        "# Print the response from server\n",
        "print(response.text)\n",
        "\n",
        "# Print status code\n",
        "print(response.status_code)\n"
      ],
      "metadata": {
        "id": "uJDOoO3h43Qy"
      },
      "execution_count": null,
      "outputs": []
    },
    {
      "cell_type": "markdown",
      "source": [
        "# Payloads\n",
        "You often want to send some sort of data in the URL’s query string. \n",
        "\n",
        "If you were constructing the URL by hand, this data would be given as key/value pairs in the URL after a question mark, e.g. httpbin.org/get?key=val. \n",
        "\n",
        "Requests allows you to provide these arguments as a **dictionary of strings**, using the **params keyword argument**. \n",
        "\n",
        "As an example, if you wanted to pass key1=value1 and key2=value2 to httpbin.org/get, you would use the following code:\n"
      ],
      "metadata": {
        "id": "JTZX-lpi5Hvy"
      }
    },
    {
      "cell_type": "code",
      "source": [
        "import requests\n",
        "\n",
        "payload = {'key1': 'value1', 'key2': 'value2'}\n",
        "\n",
        "response = requests.get('https://httpbin.org/get', params=payload)\n",
        "\n",
        "# Request URL constructed by requests library\n",
        "print(response.url)\n",
        "\n",
        "# Print the response from server\n",
        "print(response.text)\n",
        "\n",
        "# Print status code\n",
        "print(response.status_code)"
      ],
      "metadata": {
        "id": "MQvFEkH0cwJP"
      },
      "execution_count": null,
      "outputs": []
    },
    {
      "cell_type": "markdown",
      "source": [
        "Note that any dictionary key whose value is None will not be added to the URL’s query string.\n",
        "\n",
        "You can also pass a list of items as a value:"
      ],
      "metadata": {
        "id": "WI6uVVeWdm2o"
      }
    },
    {
      "cell_type": "code",
      "source": [
        "import requests\n",
        "\n",
        "payload = {'key1': 'value1', 'key2': ['value2', 'value3']}\n",
        "\n",
        "response = requests.get('https://httpbin.org/get', params=payload)\n",
        "\n",
        "# Request URL constructed by requests library\n",
        "print(response.url)\n",
        "\n",
        "# Print the response from server\n",
        "print(response.text)\n",
        "\n",
        "# Print status code\n",
        "print(response.status_code)"
      ],
      "metadata": {
        "id": "9KKqSmRGd6am"
      },
      "execution_count": null,
      "outputs": []
    },
    {
      "cell_type": "markdown",
      "source": [
        "# POST method\n",
        "POST method is used for posting some data to server.\n",
        "\n",
        "Typically, you want to send some form-encoded data — much like an HTML form. \n",
        "\n",
        "To do this, simply pass a dictionary to the data argument. \n",
        "\n",
        "Your dictionary of data will automatically be form-encoded when the request is made:"
      ],
      "metadata": {
        "id": "KBLtGIYTeJJr"
      }
    },
    {
      "cell_type": "code",
      "source": [
        "import requests\n",
        "\n",
        "payload = {'key1': 'value1', 'key2': 'value2'}\n",
        "\n",
        "response = requests.post(\"https://httpbin.org/post\", data=payload)\n",
        "\n",
        "# Request URL constructed by requests library\n",
        "print(response.url)\n",
        "\n",
        "# Print the response from server\n",
        "print(response.text)\n",
        "\n",
        "# Print status code\n",
        "print(response.status_code)"
      ],
      "metadata": {
        "id": "5K3BstxogZxX"
      },
      "execution_count": null,
      "outputs": []
    },
    {
      "cell_type": "markdown",
      "source": [
        "There are times that you may want to send data that is not form-encoded. \n",
        "\n",
        "If you pass in a string instead of a dict, that data will be posted directly.\n",
        "\n",
        "For example, the GitHub API v3 accepts JSON-Encoded POST/PATCH data:"
      ],
      "metadata": {
        "id": "a5wO9OLch0Hj"
      }
    },
    {
      "cell_type": "code",
      "source": [
        "import requests\n",
        "import json\n",
        "\n",
        "url = 'https://api.github.com/some/endpoint'\n",
        "\n",
        "payload = {'some': 'data'}\n",
        "\n",
        "response = requests.post(url, data=json.dumps(payload))\n",
        "\n",
        "# Request URL constructed by requests library\n",
        "print(response.url)\n",
        "\n",
        "# Print the response from server\n",
        "print(response.text)\n",
        "\n",
        "# Print status code\n",
        "print(response.status_code)"
      ],
      "metadata": {
        "id": "dBoyOWujio6w"
      },
      "execution_count": null,
      "outputs": []
    },
    {
      "cell_type": "markdown",
      "source": [
        "Please note that the above code will **NOT** add the `Content-Type` header (so in particular it will NOT set it to application/json).\n",
        "\n",
        "If you need that header set and you don’t want to encode the dict yourself, you can also pass it directly using the json parameter (added in version 2.4.2) and it will be encoded automatically:"
      ],
      "metadata": {
        "id": "OBI1OqKqi_e_"
      }
    },
    {
      "cell_type": "code",
      "source": [
        "url = 'https://api.github.com/some/endpoint'\n",
        "\n",
        "payload = {'some': 'data'}\n",
        "\n",
        "r = requests.post(url, json=payload)\n",
        "\n",
        "# Request URL constructed by requests library\n",
        "print(response.url)\n",
        "\n",
        "# Print the response from server\n",
        "print(response.text)\n",
        "\n",
        "# Print status code\n",
        "print(response.status_code)"
      ],
      "metadata": {
        "id": "wirhtWWOjG1s"
      },
      "execution_count": null,
      "outputs": []
    },
    {
      "cell_type": "markdown",
      "source": [
        "# Timeouts\n",
        "You can tell Requests to stop waiting for a response after a given number of seconds with the timeout parameter. \n",
        "\n",
        "Nearly all production code should use this parameter in nearly all requests. Failure to do so can cause your program to hang indefinitely:"
      ],
      "metadata": {
        "id": "GkNw_zcjj-xS"
      }
    },
    {
      "cell_type": "code",
      "source": [
        "requests.get('https://github.com/', timeout=0.001)"
      ],
      "metadata": {
        "id": "PcbrI8MFkPya"
      },
      "execution_count": null,
      "outputs": []
    },
    {
      "cell_type": "markdown",
      "source": [
        "# Errors and Exceptions\n",
        "In the event of a network problem (e.g. DNS failure, refused connection, etc), Requests will raise a `ConnectionError` exception.\n",
        "\n",
        "`Response.raise_for_status()` will raise an `HTTPError` if the HTTP request returned an unsuccessful status code.\n",
        "\n",
        "If a request times out, a `Timeout` exception is raised.\n",
        "\n",
        "If a request exceeds the configured number of maximum redirections, a `TooManyRedirects` exception is raised.\n",
        "\n",
        "All exceptions that Requests explicitly raises inherit from `requests.exceptions.RequestException`."
      ],
      "metadata": {
        "id": "cbc72pLikRfF"
      }
    }
  ]
}